{
  "nbformat": 4,
  "nbformat_minor": 0,
  "metadata": {
    "kernelspec": {
      "display_name": "Python 3",
      "language": "python",
      "name": "python3"
    },
    "language_info": {
      "codemirror_mode": {
        "name": "ipython",
        "version": 3
      },
      "file_extension": ".py",
      "mimetype": "text/x-python",
      "name": "python",
      "nbconvert_exporter": "python",
      "pygments_lexer": "ipython3",
      "version": "3.8.5"
    },
    "colab": {
      "name": "exo-Become_a_movie_director.ipynb",
      "provenance": []
    }
  },
  "cells": [
    {
      "cell_type": "markdown",
      "metadata": {
        "id": "g45rr6b0yTrC"
      },
      "source": [
        "# Become a movie director\n",
        "\n",
        "Let's use BeautifulSoup to get some information about the top-250 rated movies on <a href=\"http://www.imdb.com/\" target=\"_blank\">IMDB</a>.\n",
        "\n",
        "To complete this exercise, feel free to look at <a href=\"https://www.crummy.com/software/BeautifulSoup/bs4/doc/\" target=\"_blank\">BeautifulSoup documentation</a>."
      ]
    },
    {
      "cell_type": "markdown",
      "metadata": {
        "id": "Zq_PbrqWyTrQ"
      },
      "source": [
        "1. Import `Beautifulsoup` and `requests` libraries:"
      ]
    },
    {
      "cell_type": "code",
      "metadata": {
        "id": "6Wz8dLwVyTrT"
      },
      "source": [
        "!pip install beautifulsoup4\n",
        "!pip install lxml\n",
        "!pip install html5lib"
      ],
      "execution_count": null,
      "outputs": []
    },
    {
      "cell_type": "markdown",
      "metadata": {
        "id": "g-8GbHmXyTrW"
      },
      "source": [
        "2. With `requests`, get the source code of the webpage at this url: <a href=\"http://www.imdb.com/chart/top\" target=\"_blank\">http://www.imdb.com/chart/top</a>"
      ]
    },
    {
      "cell_type": "code",
      "metadata": {
        "id": "S5c-ddJiy2Xu"
      },
      "source": [
        "response = requests.get(url)\n",
        "soup = BeautifulSoup(response.text, \"lxml\")\n"
      ],
      "execution_count": 103,
      "outputs": []
    },
    {
      "cell_type": "markdown",
      "metadata": {
        "id": "Mz9Lu-72yTrZ"
      },
      "source": [
        "3. Use Beautifulsoup to extract the following items from the webpage HTML code, for each of the 250 movies: ranking, title, url, crew, rating and number of voters.\n",
        "\n",
        "Use the `.select` method to find tags you need on the website, then store those tags into lists.\n",
        "\n",
        "Finally, create a list named `imdb` in which each item is a dictionary containing the information related to one movie.\n",
        "\n",
        "**Hint**: You can check out the <a href=\"https://docs.python.org/3/library/string.html\" target=\"_blank\">string documentation</a>, in particular the `.split`, `.join` and `.replace` methods."
      ]
    },
    {
      "cell_type": "code",
      "metadata": {
        "id": "_eprJ7h_8Zu3"
      },
      "source": [
        "# crew\n",
        "crew = [elem.attrs.get('title') for elem in soup.select('td.titleColumn a ')]"
      ],
      "execution_count": 92,
      "outputs": []
    },
    {
      "cell_type": "code",
      "metadata": {
        "id": "xj3DJ1ky-rps"
      },
      "source": [
        "#titre des films\n",
        "titles = [elem.get_text() for elem in soup.select('td.titleColumn a ')]\n"
      ],
      "execution_count": 99,
      "outputs": []
    },
    {
      "cell_type": "code",
      "metadata": {
        "id": "wgOGPAZj6dkm"
      },
      "source": [
        "#ratings\n",
        "ratings = [elem.attrs.get('data-value') for elem in soup.select('td.posterColumn span[name=ir]')]\n"
      ],
      "execution_count": null,
      "outputs": []
    },
    {
      "cell_type": "code",
      "metadata": {
        "colab": {
          "base_uri": "https://localhost:8080/",
          "height": 420
        },
        "id": "wGxzBTon-U8O",
        "outputId": "2dd6f86e-71b8-4e6a-cd65-487c4161a24f"
      },
      "source": [
        "import pandas as pd\n",
        "data = {'titles': titles, 'ratings': ratings, 'crew' : crew}\n",
        "pd.DataFrame.from_dict(data)\n"
      ],
      "execution_count": 102,
      "outputs": [
        {
          "output_type": "execute_result",
          "data": {
            "text/html": [
              "<div>\n",
              "<style scoped>\n",
              "    .dataframe tbody tr th:only-of-type {\n",
              "        vertical-align: middle;\n",
              "    }\n",
              "\n",
              "    .dataframe tbody tr th {\n",
              "        vertical-align: top;\n",
              "    }\n",
              "\n",
              "    .dataframe thead th {\n",
              "        text-align: right;\n",
              "    }\n",
              "</style>\n",
              "<table border=\"1\" class=\"dataframe\">\n",
              "  <thead>\n",
              "    <tr style=\"text-align: right;\">\n",
              "      <th></th>\n",
              "      <th>titles</th>\n",
              "      <th>ratings</th>\n",
              "      <th>crew</th>\n",
              "    </tr>\n",
              "  </thead>\n",
              "  <tbody>\n",
              "    <tr>\n",
              "      <th>0</th>\n",
              "      <td>The Shawshank Redemption</td>\n",
              "      <td>9.219969977197412</td>\n",
              "      <td>Frank Darabont (dir.), Tim Robbins, Morgan Fre...</td>\n",
              "    </tr>\n",
              "    <tr>\n",
              "      <th>1</th>\n",
              "      <td>The Godfather</td>\n",
              "      <td>9.147416940059768</td>\n",
              "      <td>Francis Ford Coppola (dir.), Marlon Brando, Al...</td>\n",
              "    </tr>\n",
              "    <tr>\n",
              "      <th>2</th>\n",
              "      <td>The Godfather: Part II</td>\n",
              "      <td>8.980055304759755</td>\n",
              "      <td>Francis Ford Coppola (dir.), Al Pacino, Robert...</td>\n",
              "    </tr>\n",
              "    <tr>\n",
              "      <th>3</th>\n",
              "      <td>The Dark Knight</td>\n",
              "      <td>8.970595126848023</td>\n",
              "      <td>Christopher Nolan (dir.), Christian Bale, Heat...</td>\n",
              "    </tr>\n",
              "    <tr>\n",
              "      <th>4</th>\n",
              "      <td>12 Angry Men</td>\n",
              "      <td>8.935916444713762</td>\n",
              "      <td>Sidney Lumet (dir.), Henry Fonda, Lee J. Cobb</td>\n",
              "    </tr>\n",
              "    <tr>\n",
              "      <th>...</th>\n",
              "      <td>...</td>\n",
              "      <td>...</td>\n",
              "      <td>...</td>\n",
              "    </tr>\n",
              "    <tr>\n",
              "      <th>245</th>\n",
              "      <td>Fanny and Alexander</td>\n",
              "      <td>8.021995531332358</td>\n",
              "      <td>Ingmar Bergman (dir.), Bertil Guve, Pernilla A...</td>\n",
              "    </tr>\n",
              "    <tr>\n",
              "      <th>246</th>\n",
              "      <td>Soul</td>\n",
              "      <td>8.02174253952364</td>\n",
              "      <td>Pete Docter (dir.), Jamie Foxx, Tina Fey</td>\n",
              "    </tr>\n",
              "    <tr>\n",
              "      <th>247</th>\n",
              "      <td>Drishyam</td>\n",
              "      <td>8.019761602983898</td>\n",
              "      <td>Jeethu Joseph (dir.), Mohanlal, Meena</td>\n",
              "    </tr>\n",
              "    <tr>\n",
              "      <th>248</th>\n",
              "      <td>Tumbbad</td>\n",
              "      <td>8.019727603639256</td>\n",
              "      <td>Rahi Anil Barve (dir.), Sohum Shah, Jyoti Malshe</td>\n",
              "    </tr>\n",
              "    <tr>\n",
              "      <th>249</th>\n",
              "      <td>Sunrise</td>\n",
              "      <td>8.019317835170227</td>\n",
              "      <td>F.W. Murnau (dir.), George O'Brien, Janet Gaynor</td>\n",
              "    </tr>\n",
              "  </tbody>\n",
              "</table>\n",
              "<p>250 rows × 3 columns</p>\n",
              "</div>"
            ],
            "text/plain": [
              "                       titles  ...                                               crew\n",
              "0    The Shawshank Redemption  ...  Frank Darabont (dir.), Tim Robbins, Morgan Fre...\n",
              "1               The Godfather  ...  Francis Ford Coppola (dir.), Marlon Brando, Al...\n",
              "2      The Godfather: Part II  ...  Francis Ford Coppola (dir.), Al Pacino, Robert...\n",
              "3             The Dark Knight  ...  Christopher Nolan (dir.), Christian Bale, Heat...\n",
              "4                12 Angry Men  ...      Sidney Lumet (dir.), Henry Fonda, Lee J. Cobb\n",
              "..                        ...  ...                                                ...\n",
              "245       Fanny and Alexander  ...  Ingmar Bergman (dir.), Bertil Guve, Pernilla A...\n",
              "246                      Soul  ...           Pete Docter (dir.), Jamie Foxx, Tina Fey\n",
              "247                  Drishyam  ...              Jeethu Joseph (dir.), Mohanlal, Meena\n",
              "248                   Tumbbad  ...   Rahi Anil Barve (dir.), Sohum Shah, Jyoti Malshe\n",
              "249                   Sunrise  ...   F.W. Murnau (dir.), George O'Brien, Janet Gaynor\n",
              "\n",
              "[250 rows x 3 columns]"
            ]
          },
          "metadata": {
            "tags": []
          },
          "execution_count": 102
        }
      ]
    }
  ]
}